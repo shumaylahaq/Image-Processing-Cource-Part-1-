{
 "cells": [
  {
   "cell_type": "markdown",
   "metadata": {},
   "source": [
    "Using mouse as paint brush to paint transperacy"
   ]
  },
  {
   "cell_type": "code",
   "execution_count": 2,
   "metadata": {},
   "outputs": [],
   "source": [
    "import cv2\n",
    "import numpy as np\n",
    "\n",
    "img = cv2.imread(\"images\\\\butter.png\",-1)\n",
    "# img_copy = np.copy(img)\n",
    "drawing = False\n",
    "\n",
    "# Create a black image, a window\n",
    "# img = np.zeros((250,512,3), np.uint8)\n",
    "# img_copy = np.copy(img)\n",
    "cv2.namedWindow('image')\n",
    "\n",
    "\n",
    "def nothing(x):\n",
    "    pass\n",
    "\n",
    "def mouse_call(event,x,y,flag,s):\n",
    "    global drawing,rad\n",
    "    \n",
    "    if event == cv2.EVENT_LBUTTONDOWN:\n",
    "        drawing = True\n",
    "    \n",
    "    if event == cv2.EVENT_MOUSEMOVE:\n",
    "        if drawing:\n",
    "            cv2.circle(img,(x,y),rad,(0,0,0,0),-1)\n",
    "            \n",
    "    if event == cv2.EVENT_LBUTTONUP:\n",
    "        drawing = False\n",
    "\n",
    "cv2.setMouseCallback('image',mouse_call)\n",
    "\n",
    "# create trackbars for color change\n",
    "# cv2.createTrackbar('R','image',0,255,nothing)\n",
    "# cv2.createTrackbar('G','image',0,255,nothing)\n",
    "# cv2.createTrackbar('B','image',0,255,nothing)\n",
    "# cv2.createTrackbar('A','image',0,255,nothing)\n",
    "\n",
    "cv2.createTrackbar('Radius','image',5,50,nothing)\n",
    "\n",
    "while(1):\n",
    "    cv2.imshow('image',img)\n",
    "    k = cv2.waitKey(1) & 0xFF\n",
    "    if k == 27:\n",
    "        break\n",
    "\n",
    "    if k == ord('s'):\n",
    "        cv2.imwrite(\"images\\\\butter_copy.png\",img)\n",
    "    # get current positions of four trackbars\n",
    "#     r = cv2.getTrackbarPos('R','image')\n",
    "#     g = cv2.getTrackbarPos('G','image')\n",
    "#     b = cv2.getTrackbarPos('B','image')\n",
    "#     a = cv2.getTrackbarPos('A','image')\n",
    "\n",
    "    rad = cv2.getTrackbarPos('Radius','image')\n",
    "\n",
    "cv2.destroyAllWindows()"
   ]
  },
  {
   "cell_type": "code",
   "execution_count": 11,
   "metadata": {},
   "outputs": [
    {
     "name": "stdout",
     "output_type": "stream",
     "text": [
      "(512, 512, 4)\n"
     ]
    }
   ],
   "source": [
    "img = cv2.imread(\"images\\\\lena.jpg\")\n",
    "img2 = cv2.cvtColor(img,cv2.COLOR_BGR2BGRA)\n",
    "print(img2.shape)"
   ]
  },
  {
   "cell_type": "code",
   "execution_count": 5,
   "metadata": {},
   "outputs": [],
   "source": [
    "img1 = cv2.imread(\"images\\\\scene.jpg\")\n",
    "img2 = cv2.imread(\"images\\\\opencv.png\")\n",
    "\n",
    "img1 = cv2.resize(img1,(180,222))\n",
    "\n",
    "img_np = img1+img2\n",
    "img_cv = cv2.add(img1,img2)\n",
    "\n",
    "cv2.imshow(\"image1\",img_np)\n",
    "cv2.imshow(\"image2\",img_cv)\n",
    "\n",
    "cv2.waitKey(0)\n",
    "cv2.destroyAllWindows()"
   ]
  },
  {
   "cell_type": "code",
   "execution_count": null,
   "metadata": {},
   "outputs": [],
   "source": []
  },
  {
   "cell_type": "code",
   "execution_count": 8,
   "metadata": {},
   "outputs": [],
   "source": [
    "img1 = cv2.imread(\"images\\\\scene.jpg\")\n",
    "img2 = cv2.imread(\"images\\\\opencv.png\")\n",
    "\n",
    "img1 = cv2.resize(img1,(180,222))\n",
    "\n",
    "dst = cv2.addWeighted(img1,0.9,img2,0.1,0)\n",
    "\n",
    "cv2.imshow(\"image1\",dst)\n",
    "\n",
    "cv2.waitKey(0)\n",
    "cv2.destroyAllWindows()"
   ]
  },
  {
   "cell_type": "markdown",
   "metadata": {},
   "source": [
    "slideshow of images"
   ]
  },
  {
   "cell_type": "code",
   "execution_count": null,
   "metadata": {},
   "outputs": [],
   "source": []
  }
 ],
 "metadata": {
  "kernelspec": {
   "display_name": "Python 3",
   "language": "python",
   "name": "python3"
  },
  "language_info": {
   "codemirror_mode": {
    "name": "ipython",
    "version": 3
   },
   "file_extension": ".py",
   "mimetype": "text/x-python",
   "name": "python",
   "nbconvert_exporter": "python",
   "pygments_lexer": "ipython3",
   "version": "3.7.6"
  }
 },
 "nbformat": 4,
 "nbformat_minor": 4
}
