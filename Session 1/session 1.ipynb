{
 "cells": [
  {
   "cell_type": "markdown",
   "metadata": {},
   "source": [
    "<img src=\"data/omotec.png\" alt=\"Drawing\" style=\"width: 130px;\" align=\"center\"/>\n",
    "\n",
    "# Introduction to openCV-Python"
   ]
  },
  {
   "cell_type": "markdown",
   "metadata": {},
   "source": [
    "openCV was initailly developed in c++ a very fast compiled language as compared to the slow nature of python. But due to the simplicity of python and the ease of use a wrapper was developed for python around the original openCV c++ code. Which allowed the users to make the best of both world. A wrapper in simple terms means that the user will be writing the code in python but in the backend the code will be executed in c++ which made the code execution faster."
   ]
  },
  {
   "cell_type": "markdown",
   "metadata": {},
   "source": [
    "## Installing openCV"
   ]
  },
  {
   "cell_type": "markdown",
   "metadata": {},
   "source": [
    "- for windows users <br>\n",
    "**`pip install opencv-python`**\n",
    "\n",
    "<br>\n",
    "\n",
    "- for mac users <br>\n",
    "**`pip3 install opencv-python`**"
   ]
  },
  {
   "cell_type": "markdown",
   "metadata": {},
   "source": [
    "## Understanding Images\n",
    "Before we start with image processing we must understand what an image is.<br><br>\n",
    "#### Below Image shows a zoomed in image of a mouse pointer with white edges on the screen.\n",
    "\n",
    "<div>\n",
    "<img src=\"data/mouse_zoom.jpg\" width=\"800\" align=\"center\"/>\n",
    "</div>\n",
    "\n",
    "Wait but the edges of the mouse is not white!!<br>\n",
    "The white color is the result of the RGB sub-pixel colors mixing together as they are close to each other. Red Green and Blue being the primary colors we can create any color on the screen by manipulaing the brightness of each sub-pixel."
   ]
  },
  {
   "cell_type": "markdown",
   "metadata": {},
   "source": [
    "- A standard monitor supports 256 levels of brightness for every sub-pixel pixel. So by manipulating the RGB sub-pixels we can create a total number of $256^{3}$ colors\n",
    "- A subpixel brightness of 0 denotes that the subpixel is entierly turned off while a value off 255 denotes the subpixel is completely turned on.\n",
    "\n",
    "You can use the below link to check out a RGB color picker which allows you to chose the RGB brightness to create a new color.\n",
    "https://programmingdesignsystems.com/color/color-models-and-color-spaces/index.html"
   ]
  },
  {
   "cell_type": "markdown",
   "metadata": {},
   "source": [
    "**An image on the screen can be represented using a 3D numpy array having the number of rows and columns equal to the height and the width of the image and the third dimension representing the RGB subpixel values**\n",
    "<div>\n",
    "<img src=\"data/img_numpy.jpg\" width=\"400\" align=\"center\"/>\n",
    "</div>"
   ]
  },
  {
   "cell_type": "markdown",
   "metadata": {},
   "source": [
    "---"
   ]
  },
  {
   "cell_type": "markdown",
   "metadata": {},
   "source": [
    "### NOTE : OpenCV uses the BGR color model to stroe the image data. The BGR color model is converted to RGB just before it is rendered on the screen as the screen does not understang any other color model.\n",
    "\n",
    "Color models are just the way in which image data is stored in memory. BGR and RGB are few of the most used color models. but not the most convenient ones. From a users point of view it is really hard to select and use a color in RGB color model as you would have noticed from the above color picker link. This lead to emergence of newer eaiser to use color models and one of the most used one is the **HSV color model.** <br><br>\n",
    "\n",
    "- **H - Hue**\n",
    "- **S - Saturation**\n",
    "- **V - Value**\n"
   ]
  },
  {
   "cell_type": "markdown",
   "metadata": {},
   "source": [
    "### Below image shows the RGB and the HSV color model\n",
    "<div>\n",
    "<img src=\"data/rgb_model.jpg\" width=\"300\" align=\"center\"/>\n",
    "</div>\n",
    "<div>\n",
    "<img src=\"data/hsv_model.jpg\" width=\"300\" align=\"center\"/>\n",
    "</div>"
   ]
  },
  {
   "cell_type": "markdown",
   "metadata": {},
   "source": [
    "- **Biggest advantage of using the HSV color model us that we can select a color by chosing the Hue(H) and then get all the shades of the same color by manipulating the Saturation(S) and the Valeu(v).**<br>\n",
    "- **To acheive the same result with BGR model we will have to simultaneously manipulate all the R, G and the B values which is very difficult**"
   ]
  },
  {
   "cell_type": "markdown",
   "metadata": {},
   "source": [
    "## Image Formats\n",
    "\n",
    "Images comes in all types of format two of the most famous ones are JPEG and PNG. Format decides a lot of properties of the image but one of the most important property decided by the format is the **number of channels**.\n",
    "\n",
    "- JPEG images support only 3 channels (RGB)\n",
    "- PNG images has an optional additional Alpha channel (RGBA)\n",
    "\n",
    "The Alpha channel decides the Trasperancy of a pixel. The Alpha channel has to do nothing with how images are actually represented on the instead they are something that are simulated by software.\n",
    "\n",
    "#### Below Image shows how power point uses alpha channel to show transperancy\n",
    "\n",
    "<div>\n",
    "<img src=\"data/trans.jpg\" width=\"500\" align=\"center\"/>\n",
    "</div>"
   ]
  },
  {
   "cell_type": "markdown",
   "metadata": {},
   "source": [
    "**NOTE : It is not mandatory for PNG images to have a fourth alpha channel**\n",
    "\n",
    "But if the images has an aplha channel the numpy array created as a result of reading the image will a 3D array with 4 channels.\n",
    "\n",
    "<div>\n",
    "<img src=\"data/alpha.jpg\" width=\"400\" align=\"center\"/>\n",
    "</div>"
   ]
  }
 ],
 "metadata": {
  "kernelspec": {
   "display_name": "Python 3",
   "language": "python",
   "name": "python3"
  },
  "language_info": {
   "codemirror_mode": {
    "name": "ipython",
    "version": 3
   },
   "file_extension": ".py",
   "mimetype": "text/x-python",
   "name": "python",
   "nbconvert_exporter": "python",
   "pygments_lexer": "ipython3",
   "version": "3.8.5"
  }
 },
 "nbformat": 4,
 "nbformat_minor": 4
}
